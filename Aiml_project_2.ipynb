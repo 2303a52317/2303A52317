{
  "nbformat": 4,
  "nbformat_minor": 0,
  "metadata": {
    "colab": {
      "provenance": [],
      "authorship_tag": "ABX9TyPcqhjGIzevKyTLaO8SKC6z",
      "include_colab_link": true
    },
    "kernelspec": {
      "name": "python3",
      "display_name": "Python 3"
    },
    "language_info": {
      "name": "python"
    }
  },
  "cells": [
    {
      "cell_type": "markdown",
      "metadata": {
        "id": "view-in-github",
        "colab_type": "text"
      },
      "source": [
        "<a href=\"https://colab.research.google.com/github/2303a52317/2303A52317/blob/main/Aiml_project_2.ipynb\" target=\"_parent\"><img src=\"https://colab.research.google.com/assets/colab-badge.svg\" alt=\"Open In Colab\"/></a>"
      ]
    },
    {
      "cell_type": "code",
      "execution_count": 1,
      "metadata": {
        "id": "1LBro5VU-P_j"
      },
      "outputs": [],
      "source": [
        "import pandas as pd\n",
        "import numpy as np\n",
        "from sklearn.model_selection import train_test_split\n",
        "from sklearn.preprocessing import StandardScaler\n",
        "from sklearn.metrics import accuracy_score, precision_score, recall_score, f1_score, roc_auc_score, classification_report\n",
        "from sklearn.metrics import roc_curve, RocCurveDisplay\n",
        "from sklearn.ensemble import RandomForestClassifier\n",
        "from sklearn.svm import SVC\n",
        "from sklearn.neighbors import KNeighborsClassifier\n",
        "from sklearn.tree import DecisionTreeClassifier\n",
        "import matplotlib.pyplot as plt\n"
      ]
    },
    {
      "cell_type": "code",
      "source": [
        "# Load the dataset\n",
        "data = pd.read_csv('/content/Salary_Data.csv')\n",
        "\n",
        "# View the first few rows of the dataset\n",
        "print(\"Dataset head:\\n\", data.head())\n",
        "\n",
        "# Summary of the dataset for quick insights\n",
        "print(\"\\nDataset summary:\\n\", data.describe())\n",
        "\n",
        "# Check for missing values in each column\n",
        "print(\"\\nChecking for missing values:\\n\", data.isnull().sum())\n"
      ],
      "metadata": {
        "colab": {
          "base_uri": "https://localhost:8080/"
        },
        "id": "xk9NV-m5-RrF",
        "outputId": "1c48542b-8afa-4c6c-a997-3d798edc0be7"
      },
      "execution_count": 3,
      "outputs": [
        {
          "output_type": "stream",
          "name": "stdout",
          "text": [
            "Dataset head:\n",
            "    YearsExperience   Salary\n",
            "0              1.1  39343.0\n",
            "1              1.3  46205.0\n",
            "2              1.5  37731.0\n",
            "3              2.0  43525.0\n",
            "4              2.2  39891.0\n",
            "\n",
            "Dataset summary:\n",
            "        YearsExperience         Salary\n",
            "count        30.000000      30.000000\n",
            "mean          5.313333   76003.000000\n",
            "std           2.837888   27414.429785\n",
            "min           1.100000   37731.000000\n",
            "25%           3.200000   56720.750000\n",
            "50%           4.700000   65237.000000\n",
            "75%           7.700000  100544.750000\n",
            "max          10.500000  122391.000000\n",
            "\n",
            "Checking for missing values:\n",
            " YearsExperience    0\n",
            "Salary             0\n",
            "dtype: int64\n"
          ]
        }
      ]
    },
    {
      "cell_type": "code",
      "source": [
        "# Assuming the target variable is in the 'Salary' column\n",
        "X = data.drop('Salary', axis=1)  # Change 'Target' to 'Salary'\n",
        "y = data['Salary']              # Change 'Target' to 'Salary'"
      ],
      "metadata": {
        "id": "M-CX3Car-RwM"
      },
      "execution_count": 4,
      "outputs": []
    },
    {
      "cell_type": "code",
      "source": [
        "# Splitting data into training and test sets\n",
        "X_train, X_test, y_train, y_test = train_test_split(X, y, test_size=0.2, random_state=42)"
      ],
      "metadata": {
        "id": "lvX45NMF-R2F"
      },
      "execution_count": 5,
      "outputs": []
    },
    {
      "cell_type": "code",
      "source": [
        "# Standardize features\n",
        "scaler = StandardScaler()\n",
        "X_train = scaler.fit_transform(X_train)  # Fit on train, transform train\n",
        "X_test = scaler.transform(X_test)        # Only transform test\n"
      ],
      "metadata": {
        "id": "1KvjnUU7-j2F"
      },
      "execution_count": 6,
      "outputs": []
    },
    {
      "cell_type": "code",
      "source": [
        "# Define models in a dictionary\n",
        "models = {\n",
        "    \"Random Forest\": RandomForestClassifier(random_state=42),\n",
        "    \"Support Vector Machine (SVM)\": SVC(probability=True, random_state=42),\n",
        "    \"K-Nearest Neighbors (KNN)\": KNeighborsClassifier(),\n",
        "    \"Decision Tree\": DecisionTreeClassifier(random_state=42)\n",
        "}"
      ],
      "metadata": {
        "id": "_uUVSzDB-j58"
      },
      "execution_count": 7,
      "outputs": []
    },
    {
      "cell_type": "code",
      "source": [
        " #Initialize a list to store results\n",
        "results = []\n",
        "\n",
        "# Iterate over each model\n",
        "for model_name, model in models.items():\n",
        "    # Train model on training data\n",
        "    model.fit(X_train, y_train)\n",
        "\n",
        "    # Predict on test data\n",
        "    y_pred = model.predict(X_test)\n",
        "\n",
        "    # Get probability predictions for ROC AUC (if supported)\n",
        "    y_proba = model.predict_proba(X_test)[:, 1] if hasattr(model, \"predict_proba\") else None\n",
        "\n",
        "    # Calculate evaluation metrics\n",
        "    accuracy = accuracy_score(y_test, y_pred)\n",
        "    # Change 'binary' to 'weighted' for multiclass targets\n",
        "    precision = precision_score(y_test, y_pred, average='weighted')\n",
        "    recall = recall_score(y_test, y_pred, average='weighted')\n",
        "    f1 = f1_score(y_test, y_pred, average='weighted')\n",
        "    error_rate = 1 - accuracy\n",
        "\n",
        "    # For multiclass, ROC AUC might not be directly applicable. Consider other metrics.\n",
        "    # If you have a specific way to handle multiclass ROC AUC, adapt accordingly.\n",
        "    # For now, we'll skip calculating ROC AUC\n",
        "    # roc_auc = roc_auc_score(y_test, y_proba) if y_proba is not None else \"N/A\"\n",
        "\n",
        "    # Append metrics to results\n",
        "    results.append({\n",
        "        \"Model\": model_name,\n",
        "        \"Accuracy\": accuracy,\n",
        "        \"Precision\": precision,\n",
        "        \"Recall\": recall,\n",
        "        \"F1-Score\": f1,\n",
        "        \"Error Rate\": error_rate,\n",
        "        # \"ROC AUC\": roc_auc # Removing ROC AUC for now\n",
        "    })\n",
        "\n",
        "    # Print detailed classification report for each model\n",
        "    print(f\"\\nClassification Report for {model_name}:\\n\", classification_report(y_test, y_pred))"
      ],
      "metadata": {
        "id": "sso1xy2O-j99",
        "colab": {
          "base_uri": "https://localhost:8080/"
        },
        "outputId": "604abbcb-71ed-423d-c92a-fd53f4e7a2be"
      },
      "execution_count": 8,
      "outputs": [
        {
          "output_type": "stream",
          "name": "stdout",
          "text": [
            "\n",
            "Classification Report for Random Forest:\n",
            "               precision    recall  f1-score   support\n",
            "\n",
            "     54445.0       0.00      0.00      0.00       0.0\n",
            "     57189.0       0.00      0.00      0.00       1.0\n",
            "     63218.0       0.00      0.00      0.00       0.0\n",
            "     64445.0       0.00      0.00      0.00       1.0\n",
            "     66029.0       0.00      0.00      0.00       0.0\n",
            "     67938.0       0.00      0.00      0.00       1.0\n",
            "     83088.0       0.00      0.00      0.00       1.0\n",
            "    101302.0       0.00      0.00      0.00       0.0\n",
            "    112635.0       0.00      0.00      0.00       1.0\n",
            "    113812.0       0.00      0.00      0.00       1.0\n",
            "    116969.0       0.00      0.00      0.00       0.0\n",
            "\n",
            "    accuracy                           0.00       6.0\n",
            "   macro avg       0.00      0.00      0.00       6.0\n",
            "weighted avg       0.00      0.00      0.00       6.0\n",
            "\n",
            "\n",
            "Classification Report for Support Vector Machine (SVM):\n",
            "               precision    recall  f1-score   support\n",
            "\n",
            "     54445.0       0.00      0.00      0.00       0.0\n",
            "     57189.0       0.00      0.00      0.00       1.0\n",
            "     63218.0       0.00      0.00      0.00       0.0\n",
            "     64445.0       0.00      0.00      0.00       1.0\n",
            "     66029.0       0.00      0.00      0.00       0.0\n",
            "     67938.0       0.00      0.00      0.00       1.0\n",
            "     83088.0       0.00      0.00      0.00       1.0\n",
            "    101302.0       0.00      0.00      0.00       0.0\n",
            "    112635.0       0.00      0.00      0.00       1.0\n",
            "    113812.0       0.00      0.00      0.00       1.0\n",
            "    116969.0       0.00      0.00      0.00       0.0\n",
            "\n",
            "    accuracy                           0.00       6.0\n",
            "   macro avg       0.00      0.00      0.00       6.0\n",
            "weighted avg       0.00      0.00      0.00       6.0\n",
            "\n",
            "\n",
            "Classification Report for K-Nearest Neighbors (KNN):\n",
            "               precision    recall  f1-score   support\n",
            "\n",
            "     54445.0       0.00      0.00      0.00       0.0\n",
            "     55794.0       0.00      0.00      0.00       0.0\n",
            "     57081.0       0.00      0.00      0.00       0.0\n",
            "     57189.0       0.00      0.00      0.00       1.0\n",
            "     64445.0       0.00      0.00      0.00       1.0\n",
            "     67938.0       0.00      0.00      0.00       1.0\n",
            "     83088.0       0.00      0.00      0.00       1.0\n",
            "     98273.0       0.00      0.00      0.00       0.0\n",
            "    105582.0       0.00      0.00      0.00       0.0\n",
            "    112635.0       0.00      0.00      0.00       1.0\n",
            "    113812.0       0.00      0.00      0.00       1.0\n",
            "\n",
            "    accuracy                           0.00       6.0\n",
            "   macro avg       0.00      0.00      0.00       6.0\n",
            "weighted avg       0.00      0.00      0.00       6.0\n",
            "\n",
            "\n",
            "Classification Report for Decision Tree:\n",
            "               precision    recall  f1-score   support\n",
            "\n",
            "     54445.0       0.00      0.00      0.00       0.0\n",
            "     57189.0       0.00      0.00      0.00       1.0\n",
            "     63218.0       0.00      0.00      0.00       0.0\n",
            "     64445.0       0.00      0.00      0.00       1.0\n",
            "     66029.0       0.00      0.00      0.00       0.0\n",
            "     67938.0       0.00      0.00      0.00       1.0\n",
            "     83088.0       0.00      0.00      0.00       1.0\n",
            "    101302.0       0.00      0.00      0.00       0.0\n",
            "    112635.0       0.00      0.00      0.00       1.0\n",
            "    113812.0       0.00      0.00      0.00       1.0\n",
            "    116969.0       0.00      0.00      0.00       0.0\n",
            "\n",
            "    accuracy                           0.00       6.0\n",
            "   macro avg       0.00      0.00      0.00       6.0\n",
            "weighted avg       0.00      0.00      0.00       6.0\n",
            "\n"
          ]
        },
        {
          "output_type": "stream",
          "name": "stderr",
          "text": [
            "/usr/local/lib/python3.10/dist-packages/sklearn/metrics/_classification.py:1531: UndefinedMetricWarning: Precision is ill-defined and being set to 0.0 in labels with no predicted samples. Use `zero_division` parameter to control this behavior.\n",
            "  _warn_prf(average, modifier, f\"{metric.capitalize()} is\", len(result))\n",
            "/usr/local/lib/python3.10/dist-packages/sklearn/metrics/_classification.py:1531: UndefinedMetricWarning: Recall is ill-defined and being set to 0.0 in labels with no true samples. Use `zero_division` parameter to control this behavior.\n",
            "  _warn_prf(average, modifier, f\"{metric.capitalize()} is\", len(result))\n",
            "/usr/local/lib/python3.10/dist-packages/sklearn/metrics/_classification.py:1531: UndefinedMetricWarning: Precision is ill-defined and being set to 0.0 in labels with no predicted samples. Use `zero_division` parameter to control this behavior.\n",
            "  _warn_prf(average, modifier, f\"{metric.capitalize()} is\", len(result))\n",
            "/usr/local/lib/python3.10/dist-packages/sklearn/metrics/_classification.py:1531: UndefinedMetricWarning: Recall is ill-defined and being set to 0.0 in labels with no true samples. Use `zero_division` parameter to control this behavior.\n",
            "  _warn_prf(average, modifier, f\"{metric.capitalize()} is\", len(result))\n",
            "/usr/local/lib/python3.10/dist-packages/sklearn/metrics/_classification.py:1531: UndefinedMetricWarning: Precision is ill-defined and being set to 0.0 in labels with no predicted samples. Use `zero_division` parameter to control this behavior.\n",
            "  _warn_prf(average, modifier, f\"{metric.capitalize()} is\", len(result))\n",
            "/usr/local/lib/python3.10/dist-packages/sklearn/metrics/_classification.py:1531: UndefinedMetricWarning: Recall is ill-defined and being set to 0.0 in labels with no true samples. Use `zero_division` parameter to control this behavior.\n",
            "  _warn_prf(average, modifier, f\"{metric.capitalize()} is\", len(result))\n",
            "/usr/local/lib/python3.10/dist-packages/sklearn/metrics/_classification.py:1531: UndefinedMetricWarning: Precision is ill-defined and being set to 0.0 in labels with no predicted samples. Use `zero_division` parameter to control this behavior.\n",
            "  _warn_prf(average, modifier, f\"{metric.capitalize()} is\", len(result))\n",
            "/usr/local/lib/python3.10/dist-packages/sklearn/metrics/_classification.py:1531: UndefinedMetricWarning: Recall is ill-defined and being set to 0.0 in labels with no true samples. Use `zero_division` parameter to control this behavior.\n",
            "  _warn_prf(average, modifier, f\"{metric.capitalize()} is\", len(result))\n",
            "/usr/local/lib/python3.10/dist-packages/sklearn/metrics/_classification.py:1531: UndefinedMetricWarning: Precision is ill-defined and being set to 0.0 in labels with no predicted samples. Use `zero_division` parameter to control this behavior.\n",
            "  _warn_prf(average, modifier, f\"{metric.capitalize()} is\", len(result))\n",
            "/usr/local/lib/python3.10/dist-packages/sklearn/metrics/_classification.py:1531: UndefinedMetricWarning: Recall is ill-defined and being set to 0.0 in labels with no true samples. Use `zero_division` parameter to control this behavior.\n",
            "  _warn_prf(average, modifier, f\"{metric.capitalize()} is\", len(result))\n",
            "/usr/local/lib/python3.10/dist-packages/sklearn/metrics/_classification.py:1531: UndefinedMetricWarning: Precision is ill-defined and being set to 0.0 in labels with no predicted samples. Use `zero_division` parameter to control this behavior.\n",
            "  _warn_prf(average, modifier, f\"{metric.capitalize()} is\", len(result))\n",
            "/usr/local/lib/python3.10/dist-packages/sklearn/metrics/_classification.py:1531: UndefinedMetricWarning: Recall is ill-defined and being set to 0.0 in labels with no true samples. Use `zero_division` parameter to control this behavior.\n",
            "  _warn_prf(average, modifier, f\"{metric.capitalize()} is\", len(result))\n",
            "/usr/local/lib/python3.10/dist-packages/sklearn/metrics/_classification.py:1531: UndefinedMetricWarning: Precision is ill-defined and being set to 0.0 in labels with no predicted samples. Use `zero_division` parameter to control this behavior.\n",
            "  _warn_prf(average, modifier, f\"{metric.capitalize()} is\", len(result))\n",
            "/usr/local/lib/python3.10/dist-packages/sklearn/metrics/_classification.py:1531: UndefinedMetricWarning: Recall is ill-defined and being set to 0.0 in labels with no true samples. Use `zero_division` parameter to control this behavior.\n",
            "  _warn_prf(average, modifier, f\"{metric.capitalize()} is\", len(result))\n",
            "/usr/local/lib/python3.10/dist-packages/sklearn/metrics/_classification.py:1531: UndefinedMetricWarning: Precision is ill-defined and being set to 0.0 in labels with no predicted samples. Use `zero_division` parameter to control this behavior.\n",
            "  _warn_prf(average, modifier, f\"{metric.capitalize()} is\", len(result))\n",
            "/usr/local/lib/python3.10/dist-packages/sklearn/metrics/_classification.py:1531: UndefinedMetricWarning: Recall is ill-defined and being set to 0.0 in labels with no true samples. Use `zero_division` parameter to control this behavior.\n",
            "  _warn_prf(average, modifier, f\"{metric.capitalize()} is\", len(result))\n",
            "/usr/local/lib/python3.10/dist-packages/sklearn/metrics/_classification.py:1531: UndefinedMetricWarning: Precision is ill-defined and being set to 0.0 in labels with no predicted samples. Use `zero_division` parameter to control this behavior.\n",
            "  _warn_prf(average, modifier, f\"{metric.capitalize()} is\", len(result))\n",
            "/usr/local/lib/python3.10/dist-packages/sklearn/metrics/_classification.py:1531: UndefinedMetricWarning: Recall is ill-defined and being set to 0.0 in labels with no true samples. Use `zero_division` parameter to control this behavior.\n",
            "  _warn_prf(average, modifier, f\"{metric.capitalize()} is\", len(result))\n",
            "/usr/local/lib/python3.10/dist-packages/sklearn/metrics/_classification.py:1531: UndefinedMetricWarning: Precision is ill-defined and being set to 0.0 in labels with no predicted samples. Use `zero_division` parameter to control this behavior.\n",
            "  _warn_prf(average, modifier, f\"{metric.capitalize()} is\", len(result))\n",
            "/usr/local/lib/python3.10/dist-packages/sklearn/metrics/_classification.py:1531: UndefinedMetricWarning: Recall is ill-defined and being set to 0.0 in labels with no true samples. Use `zero_division` parameter to control this behavior.\n",
            "  _warn_prf(average, modifier, f\"{metric.capitalize()} is\", len(result))\n",
            "/usr/local/lib/python3.10/dist-packages/sklearn/metrics/_classification.py:1531: UndefinedMetricWarning: Precision is ill-defined and being set to 0.0 in labels with no predicted samples. Use `zero_division` parameter to control this behavior.\n",
            "  _warn_prf(average, modifier, f\"{metric.capitalize()} is\", len(result))\n",
            "/usr/local/lib/python3.10/dist-packages/sklearn/metrics/_classification.py:1531: UndefinedMetricWarning: Recall is ill-defined and being set to 0.0 in labels with no true samples. Use `zero_division` parameter to control this behavior.\n",
            "  _warn_prf(average, modifier, f\"{metric.capitalize()} is\", len(result))\n",
            "/usr/local/lib/python3.10/dist-packages/sklearn/metrics/_classification.py:1531: UndefinedMetricWarning: Precision is ill-defined and being set to 0.0 in labels with no predicted samples. Use `zero_division` parameter to control this behavior.\n",
            "  _warn_prf(average, modifier, f\"{metric.capitalize()} is\", len(result))\n",
            "/usr/local/lib/python3.10/dist-packages/sklearn/metrics/_classification.py:1531: UndefinedMetricWarning: Recall is ill-defined and being set to 0.0 in labels with no true samples. Use `zero_division` parameter to control this behavior.\n",
            "  _warn_prf(average, modifier, f\"{metric.capitalize()} is\", len(result))\n",
            "/usr/local/lib/python3.10/dist-packages/sklearn/metrics/_classification.py:1531: UndefinedMetricWarning: Precision is ill-defined and being set to 0.0 in labels with no predicted samples. Use `zero_division` parameter to control this behavior.\n",
            "  _warn_prf(average, modifier, f\"{metric.capitalize()} is\", len(result))\n",
            "/usr/local/lib/python3.10/dist-packages/sklearn/metrics/_classification.py:1531: UndefinedMetricWarning: Recall is ill-defined and being set to 0.0 in labels with no true samples. Use `zero_division` parameter to control this behavior.\n",
            "  _warn_prf(average, modifier, f\"{metric.capitalize()} is\", len(result))\n",
            "/usr/local/lib/python3.10/dist-packages/sklearn/metrics/_classification.py:1531: UndefinedMetricWarning: Precision is ill-defined and being set to 0.0 in labels with no predicted samples. Use `zero_division` parameter to control this behavior.\n",
            "  _warn_prf(average, modifier, f\"{metric.capitalize()} is\", len(result))\n",
            "/usr/local/lib/python3.10/dist-packages/sklearn/metrics/_classification.py:1531: UndefinedMetricWarning: Recall is ill-defined and being set to 0.0 in labels with no true samples. Use `zero_division` parameter to control this behavior.\n",
            "  _warn_prf(average, modifier, f\"{metric.capitalize()} is\", len(result))\n",
            "/usr/local/lib/python3.10/dist-packages/sklearn/metrics/_classification.py:1531: UndefinedMetricWarning: Precision is ill-defined and being set to 0.0 in labels with no predicted samples. Use `zero_division` parameter to control this behavior.\n",
            "  _warn_prf(average, modifier, f\"{metric.capitalize()} is\", len(result))\n",
            "/usr/local/lib/python3.10/dist-packages/sklearn/metrics/_classification.py:1531: UndefinedMetricWarning: Recall is ill-defined and being set to 0.0 in labels with no true samples. Use `zero_division` parameter to control this behavior.\n",
            "  _warn_prf(average, modifier, f\"{metric.capitalize()} is\", len(result))\n",
            "/usr/local/lib/python3.10/dist-packages/sklearn/metrics/_classification.py:1531: UndefinedMetricWarning: Precision is ill-defined and being set to 0.0 in labels with no predicted samples. Use `zero_division` parameter to control this behavior.\n",
            "  _warn_prf(average, modifier, f\"{metric.capitalize()} is\", len(result))\n",
            "/usr/local/lib/python3.10/dist-packages/sklearn/metrics/_classification.py:1531: UndefinedMetricWarning: Recall is ill-defined and being set to 0.0 in labels with no true samples. Use `zero_division` parameter to control this behavior.\n",
            "  _warn_prf(average, modifier, f\"{metric.capitalize()} is\", len(result))\n"
          ]
        }
      ]
    },
    {
      "cell_type": "code",
      "source": [
        " #Convert results to DataFrame for easy viewing\n",
        "results_df = pd.DataFrame(results)\n",
        "\n",
        "# Display comparative results for all models\n",
        "print(\"\\nComparative Results:\\n\", results_df)\n"
      ],
      "metadata": {
        "id": "0yytsZRu-1CU",
        "colab": {
          "base_uri": "https://localhost:8080/"
        },
        "outputId": "cf8a8ea8-b937-4ab4-c7a3-8b23bf5ffd6f"
      },
      "execution_count": 9,
      "outputs": [
        {
          "output_type": "stream",
          "name": "stdout",
          "text": [
            "\n",
            "Comparative Results:\n",
            "                           Model  Accuracy  Precision  Recall  F1-Score  \\\n",
            "0                 Random Forest       0.0        0.0     0.0       0.0   \n",
            "1  Support Vector Machine (SVM)       0.0        0.0     0.0       0.0   \n",
            "2     K-Nearest Neighbors (KNN)       0.0        0.0     0.0       0.0   \n",
            "3                 Decision Tree       0.0        0.0     0.0       0.0   \n",
            "\n",
            "   Error Rate  \n",
            "0         1.0  \n",
            "1         1.0  \n",
            "2         1.0  \n",
            "3         1.0  \n"
          ]
        }
      ]
    },
    {
      "cell_type": "code",
      "source": [
        "#Plot ROC Curves\n",
        "plt.figure(figsize=(10, 8))\n",
        "\n",
        "# Iterate over each model and plot ROC curves if available\n",
        "for model_name, model in models.items():\n",
        "    if hasattr(model, \"predict_proba\"):\n",
        "        try:\n",
        "            # Attempt to plot ROC curve (will work for binary classifiers)\n",
        "            RocCurveDisplay.from_estimator(model, X_test, y_test, name=model_name, ax=plt.gca())\n",
        "        except ValueError:\n",
        "            # Handle multi-class cases gracefully\n",
        "            print(f\"{model_name} is likely a multi-class classifier, skipping ROC curve plotting.\")\n",
        "            # Consider alternative metrics for multi-class problems (e.g., precision-recall curve)\n",
        "    else:\n",
        "        print(f\"{model_name} does not support ROC AUC curve due to lack of probability prediction.\")\n",
        "\n",
        "# Random chance line (only applicable for binary classification)\n",
        "plt.plot([0, 1], [0, 1], 'k--', label=\"Random Chance\")\n",
        "\n",
        "# Labels and title\n",
        "plt.xlabel(\"False Positive Rate\")\n",
        "plt.ylabel(\"True Positive Rate\")\n",
        "plt.title(\"ROC Curves of Models (Binary Classifiers Only)\")\n",
        "plt.legend()\n",
        "plt.show()"
      ],
      "metadata": {
        "id": "vJKc56xC-7y8",
        "colab": {
          "base_uri": "https://localhost:8080/",
          "height": 787
        },
        "outputId": "763a2ad8-4a85-4ffe-f60a-94c8d1a0bb97"
      },
      "execution_count": 10,
      "outputs": [
        {
          "output_type": "stream",
          "name": "stdout",
          "text": [
            "Random Forest is likely a multi-class classifier, skipping ROC curve plotting.\n",
            "Support Vector Machine (SVM) is likely a multi-class classifier, skipping ROC curve plotting.\n",
            "K-Nearest Neighbors (KNN) is likely a multi-class classifier, skipping ROC curve plotting.\n",
            "Decision Tree is likely a multi-class classifier, skipping ROC curve plotting.\n"
          ]
        },
        {
          "output_type": "display_data",
          "data": {
            "text/plain": [
              "<Figure size 1000x800 with 1 Axes>"
            ],
            "image/png": "[encoded data removed]"
          },
          "metadata": {}
        }
      ]
    }
  ]
}